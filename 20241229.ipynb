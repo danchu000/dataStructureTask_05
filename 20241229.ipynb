{
 "cells": [
  {
   "cell_type": "markdown",
   "id": "38fd2ebc-f8b0-4943-b86a-492b5394a6ca",
   "metadata": {},
   "source": [
    "# 과제 3번"
   ]
  },
  {
   "cell_type": "code",
   "execution_count": 26,
   "id": "2155c927-d36c-4f98-a5fb-0bef384d999c",
   "metadata": {},
   "outputs": [
    {
     "name": "stdout",
     "output_type": "stream",
     "text": [
      "생일이 가장 늦은 10명\n",
      "홍서연 - 20241282\n",
      "신수민 - 20051230\n",
      "이서영 - 20051225\n",
      "강민주 - 20051214\n",
      "김민경 - 20051202\n",
      "이서영 - 20051112\n",
      "배시은 - 20051102\n",
      "김여원 - 20051031\n",
      "이서진 - 20051028\n",
      "서홍빈 - 20051024\n"
     ]
    }
   ],
   "source": [
    "import pandas as pd\n",
    "import importlib.util\n",
    "\n",
    "df = pd.read_csv(\"birthday.csv\")\n",
    "df[\"생년월일\"] = df[\"생년월일\"].astype(int)\n",
    "\n",
    "heap_path = \"heap.py\"\n",
    "spec = importlib.util.spec_from_file_location(\"heap\", heap_path)\n",
    "heap_module = importlib.util.module_from_spec(spec)\n",
    "spec.loader.exec_module(heap_module)\n",
    "Heap = heap_module.Heap\n",
    "\n",
    "heap = Heap()\n",
    "for _, row in df.iterrows():\n",
    "    heap.insert((row[\"생년월일\"], row[\"이름\"]))\n",
    "\n",
    "latest_birthdays = [heap.deleteMax() for _ in range(10)]\n",
    "\n",
    "print(\"생일이 가장 늦은 10명\")\n",
    "for birth, name in latest_birthdays:\n",
    "    print(f\"{name} - {birth}\")"
   ]
  },
  {
   "cell_type": "markdown",
   "id": "cbee42e5-d23e-4c7f-bb9b-6ac026b4e666",
   "metadata": {},
   "source": [
    "# 과제 4번"
   ]
  },
  {
   "cell_type": "code",
   "execution_count": 36,
   "id": "43292af6-04de-4387-94d0-9907f7aec6bf",
   "metadata": {},
   "outputs": [
    {
     "name": "stdout",
     "output_type": "stream",
     "text": [
      "우리 조원 생일 목록\n",
      "강민주 - 20051214\n",
      "김나현 - 20040203\n",
      "김민주 - 20041026\n",
      "김시연 - 20030910\n",
      "김채현 - 20040409\n",
      "나주희 - 20041104\n",
      "두경은 - 20041105\n",
      "민고은 - 20050214\n",
      "박지호 - 20040728\n",
      "손지원 - 20050620\n",
      "안정민 - 20040501\n",
      "윤혜진 - 20050517\n",
      "이서영 - 20051112\n",
      "이유빈 - 20050601\n"
     ]
    }
   ],
   "source": [
    "import pandas as pd\n",
    "import importlib.util\n",
    "import sys\n",
    "\n",
    "df = pd.read_csv(\"birthday.csv\")\n",
    "df[\"생년월일\"] = df[\"생년월일\"].astype(int)\n",
    "\n",
    "group_members = [\n",
    "    (\"******13\", \"박지호\"), (\"******53\", \"나주희\"), (\"******99\", \"김채현\"), (\"******09\", \"민고은\"),\n",
    "    (\"******73\", \"김나현\"), (\"******41\", \"이서영\"), (\"******27\", \"안정민\"), (\"******20\", \"손지원\"),\n",
    "    (\"******69\", \"강민주\"), (\"******80\", \"김민주\"), (\"******37\", \"윤혜진\"), (\"******39\", \"김시연\"),\n",
    "    (\"******06\", \"두경은\"), (\"******54\", \"이유빈\")\n",
    "]\n",
    "\n",
    "group_df = df[df.apply(lambda row: (row[\"학번\"], row[\"이름\"]) in group_members, axis=1)].copy()\n",
    "group_df[\"생년월일\"] = group_df[\"생년월일\"].astype(str)\n",
    "\n",
    "sys.path.append(\".\")\n",
    "linkedlist_path = \"circularDoublyLinkedList.py\"\n",
    "spec = importlib.util.spec_from_file_location(\"circularDoublyLinkedList\", linkedlist_path)\n",
    "linkedlist_module = importlib.util.module_from_spec(spec)\n",
    "spec.loader.exec_module(linkedlist_module)\n",
    "CircularDoublyLinkedList = linkedlist_module.CircularDoublyLinkedList\n",
    "\n",
    "friend_list = CircularDoublyLinkedList()\n",
    "for _, row in group_df.iterrows():\n",
    "    friend_list.append((row[\"이름\"], row[\"생년월일\"]))\n",
    "\n",
    "print(\"우리 조원 생일 목록\")\n",
    "for item in friend_list:\n",
    "    print(f\"{item[0]} - {item[1]}\")\n"
   ]
  },
  {
   "cell_type": "markdown",
   "id": "db192d0a-f733-4ea8-b807-403c11dbd1ef",
   "metadata": {},
   "source": [
    "# 과제 5번"
   ]
  },
  {
   "cell_type": "markdown",
   "id": "709eb279-dd99-4127-91ae-2c71799130bd",
   "metadata": {},
   "source": [
    "##### 1번"
   ]
  },
  {
   "cell_type": "code",
   "execution_count": null,
   "id": "5e8db91d-f5bc-4933-962d-359d13db131d",
   "metadata": {},
   "outputs": [],
   "source": [
    "# 가능\n",
    "# => 최대 힙에서는 부모 노드가 자식 노드보다 크거나 같기만 하면 됨\n",
    "# 따라서 더 위(얕은 곳)에 있는 노드가 더 아래(깊은 곳)에 있는 노드보다 작을 수도 있음\n",
    "# 즉, 힙은 완전 이진 트리 구조이지만, 형제 사이의 크기 순서는 보장하지 않음"
   ]
  },
  {
   "cell_type": "markdown",
   "id": "5ee2ff86-dd1c-4149-a6ee-bcbf354a93cc",
   "metadata": {},
   "source": [
    "##### 2번"
   ]
  },
  {
   "cell_type": "code",
   "execution_count": null,
   "id": "0558865b-2533-4660-b91e-ca7b9b2d3b47",
   "metadata": {},
   "outputs": [],
   "source": [
    "# 아님\n",
    "# A[n-1]은 힙의 마지막 원소일 뿐\n",
    "# 최대 힙에서 가장 큰 값은 A[0], 하지만 가장 작은 값은 보장되지 않음\n",
    "# A[n-1]이 가장 작은 값일 수도 있고 아닐 수도 있음"
   ]
  },
  {
   "cell_type": "markdown",
   "id": "bb9484d5-aa5c-4277-bbb9-dd3a5d7c19db",
   "metadata": {},
   "source": [
    "##### 3번"
   ]
  },
  {
   "cell_type": "code",
   "execution_count": null,
   "id": "c8b1c3ad-7231-451c-8aaa-8420184f7f13",
   "metadata": {},
   "outputs": [],
   "source": [
    "# ⌈n/2⌉개 (n/2부터 n-1까지의 노드)\n",
    "# 이들은 모두 리프 노드(자식이 없음) 이기 때문에 스며내리기 (heapify)를 할 필요 없음"
   ]
  },
  {
   "cell_type": "markdown",
   "id": "616fea32-9aca-4bb1-9a8c-18463f4f7562",
   "metadata": {},
   "source": [
    "##### 4번"
   ]
  },
  {
   "cell_type": "code",
   "execution_count": null,
   "id": "bbe3c095-f63c-4434-a340-9f0184aa3541",
   "metadata": {},
   "outputs": [],
   "source": [
    "# 최악의 경우: O(log n)\n",
    "# 루트에서 가장 아래까지 내려가는 경우\n",
    "\n",
    "# 최선의 경우: O(1)\n",
    "# 자식들과 비교해 교환이 필요 없는 경우"
   ]
  },
  {
   "cell_type": "markdown",
   "id": "56f462cb-6ec4-4be5-b75e-bf119568e49e",
   "metadata": {},
   "source": [
    "##### 5번"
   ]
  },
  {
   "cell_type": "code",
   "execution_count": null,
   "id": "af1074b7-c28d-42b7-bf4d-37143d17a467",
   "metadata": {},
   "outputs": [],
   "source": [
    "# 예, 매우 간단함\n",
    "# 힙은 배열로 표현되므로 마지막 원소는 그냥 pop() 하면 됨\n",
    "# 힙 속성이 깨지지 않기 때문에 별도의 조치 필요 없음"
   ]
  },
  {
   "cell_type": "markdown",
   "id": "77cd4088-99ea-472b-b594-32176bca71ca",
   "metadata": {},
   "source": [
    "##### 6번"
   ]
  },
  {
   "cell_type": "code",
   "execution_count": null,
   "id": "4d63b98a-f934-4415-b30e-2ef0a0cab290",
   "metadata": {},
   "outputs": [],
   "source": [
    "# 덜 효율적이다.\n",
    "    \n",
    "# 본문 방식 (스며내리기): O(n)\n",
    "# 스며오르기 방식: O(n log n)\n",
    "\n",
    "# 각 원소를 insert 하듯이 스며오르게 되면 최악의 경우 log n 시간 × n개의 원소 = O(n log n)"
   ]
  },
  {
   "cell_type": "markdown",
   "id": "f4c84538-a467-4742-a42e-f99c8e6e0730",
   "metadata": {},
   "source": [
    "##### 7번"
   ]
  },
  {
   "cell_type": "code",
   "execution_count": null,
   "id": "9dcc13eb-8913-4b09-a84e-06e0c398613f",
   "metadata": {},
   "outputs": [],
   "source": [
    "# 1) 해당 원소의 값을 증가시킨다.\n",
    "\n",
    "# 2) 자식보다 커질 수 있으므로 → 부모와 비교하면서 스며오르기 (heapify up) 를 한다.\n",
    "\n",
    "# 3) 부모보다 크면 서로 교환, 루트까지 반복\n",
    "\n",
    "# 시간 복잡도: O(log n)"
   ]
  },
  {
   "cell_type": "markdown",
   "id": "46f1448d-9569-4b50-9c58-e69a38c67bbb",
   "metadata": {},
   "source": [
    "# 과제 6번"
   ]
  },
  {
   "cell_type": "code",
   "execution_count": 17,
   "id": "1c5de552-ea26-4756-8608-0924635418a0",
   "metadata": {},
   "outputs": [
    {
     "name": "stdout",
     "output_type": "stream",
     "text": [
      "3\n",
      "3\n",
      "4\n",
      "5\n",
      "5\n"
     ]
    }
   ],
   "source": [
    "import heapq\n",
    "\n",
    "class KthLargest:\n",
    "\n",
    "    def __init__(self, k: int, nums: list[int]):\n",
    "        self.k = k\n",
    "        self.min_heap = nums\n",
    "        heapq.heapify(self.min_heap)\n",
    "\n",
    "        while len(self.min_heap) > k:\n",
    "            heapq.heappop(self.min_heap)\n",
    "\n",
    "    def add(self, val: int) -> int:\n",
    "        heapq.heappush(self.min_heap, val)\n",
    "        if len(self.min_heap) > self.k:\n",
    "            heapq.heappop(self.min_heap)\n",
    "        return self.min_heap[0]\n",
    "\n",
    "\n",
    "kth = KthLargest(3, [1, 2, 3, 4, 5])\n",
    "print(kth.add(3)) \n",
    "print(kth.add(2)) \n",
    "print(kth.add(10)) \n",
    "print(kth.add(9)) \n",
    "print(kth.add(4)) "
   ]
  }
 ],
 "metadata": {
  "kernelspec": {
   "display_name": "Python 3 (ipykernel)",
   "language": "python",
   "name": "python3"
  },
  "language_info": {
   "codemirror_mode": {
    "name": "ipython",
    "version": 3
   },
   "file_extension": ".py",
   "mimetype": "text/x-python",
   "name": "python",
   "nbconvert_exporter": "python",
   "pygments_lexer": "ipython3",
   "version": "3.9.12"
  }
 },
 "nbformat": 4,
 "nbformat_minor": 5
}
